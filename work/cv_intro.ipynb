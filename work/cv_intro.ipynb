{
 "cells": [
  {
   "cell_type": "code",
   "execution_count": 2,
   "metadata": {},
   "outputs": [
    {
     "name": "stdout",
     "output_type": "stream",
     "text": [
      "python: 3.6.2 |Anaconda custom (64-bit)| (default, Sep 21 2017, 18:29:43) \n",
      "[GCC 4.2.1 Compatible Clang 4.0.1 (tags/RELEASE_401/final)]\n",
      "opencv: 3.3.0\n",
      "pytesseract: \n"
     ]
    }
   ],
   "source": [
    "import sys\n",
    "import cv2\n",
    "import pytesseract\n",
    "from PIL import Image\n",
    "\n",
    "print(\"python:\", sys.version)\n",
    "print(\"opencv:\", cv2.__version__)\n",
    "print(\"pytesseract:\",pytesseract.image_to_string(Image.open('/Users/wonjaelee/dss/05_open_cv/jpg/thumb_DQUX6559_1024.jpg')))"
   ]
  },
  {
   "cell_type": "markdown",
   "metadata": {},
   "source": [
    "image 확인"
   ]
  },
  {
   "cell_type": "code",
   "execution_count": 3,
   "metadata": {},
   "outputs": [],
   "source": [
    "img = cv2.imread('/Users/wonjaelee/dss/05_open_cv/jpg/thumb_DQUX6559_1024.jpg',0)\n",
    "cv2.imshow('image',img)\n",
    "cv2.waitKey(0) ## enter key입력을 받을때 까지 사진을 띄워 놓는다.\n",
    "cv2.destroyAllWindows()"
   ]
  }
 ],
 "metadata": {
  "kernelspec": {
   "display_name": "Python 3",
   "language": "python",
   "name": "python3"
  },
  "language_info": {
   "codemirror_mode": {
    "name": "ipython",
    "version": 3
   },
   "file_extension": ".py",
   "mimetype": "text/x-python",
   "name": "python",
   "nbconvert_exporter": "python",
   "pygments_lexer": "ipython3",
   "version": "3.6.2"
  }
 },
 "nbformat": 4,
 "nbformat_minor": 2
}
