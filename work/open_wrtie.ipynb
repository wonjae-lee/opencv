{
 "cells": [
  {
   "cell_type": "code",
   "execution_count": 1,
   "metadata": {},
   "outputs": [
    {
     "name": "stdout",
     "output_type": "stream",
     "text": [
      "a\n"
     ]
    }
   ],
   "source": [
    "print('a')"
   ]
  },
  {
   "cell_type": "markdown",
   "metadata": {},
   "source": [
    "- opencv버전에 의한 open, close 이슈가 있는것 같아 보인다.\n",
    "- 즉, 강의자료에서 나온 내용은 2.x에 맞춰져 있어 3.x 에서 정상 수행 할 수 있도록 조치 필요"
   ]
  },
  {
   "cell_type": "code",
   "execution_count": 3,
   "metadata": {},
   "outputs": [],
   "source": [
    "import numpy as np\n",
    "import cv2\n",
    "\n",
    "def handle_image():\n",
    "#    imgfile = '/Users/wonjaelee/dss/05_open_cv/jpg/thumb_HTJM5260_1024.jpg'\n",
    "    imgfile = '/Users/wonjaelee/dss/05_open_cv/jpg/thumb_IMG_1348_1024.jpg'\n",
    "    img = cv2.imread(imgfile, cv2.IMREAD_COLOR)\n",
    "    ## color로 이미지를 읽어 드린다.\n",
    "    \n",
    "    cv2.imshow('image', img)\n",
    "    cv2.waitKey(0) ## 무한으로 키보드의 입력을 기다린다.\n",
    "    cv2.destroyAllWindows()\n",
    "    cv2.waitKey(1) ## 1msc를 기다렸다 창을 닫는다. \n",
    "                   ## jupyter에서 버그가 있어 임시 방편으로 넣어 줘야 창이 제대로 닫힌다.\n",
    "    cv2.destroyAllWindows()\n",
    "    \n",
    "if __name__ == '__main__':\n",
    "    handle_image()"
   ]
  },
  {
   "cell_type": "code",
   "execution_count": null,
   "metadata": {
    "collapsed": true
   },
   "outputs": [],
   "source": []
  },
  {
   "cell_type": "code",
   "execution_count": null,
   "metadata": {
    "collapsed": true
   },
   "outputs": [],
   "source": [
    "## 이미지 읽기, 쓰기 및 표시하기 2"
   ]
  },
  {
   "cell_type": "code",
   "execution_count": 13,
   "metadata": {},
   "outputs": [],
   "source": [
    "## esc키, s키에 종료, grayimage로 저장 기능을 추가하였다.\n",
    "def handle_image():\n",
    "    imfile = '/Users/wonjaelee/dss/05_open_cv/jpg/thumb_IMG_1348_1024.jpg'\n",
    "    img = cv2.imread(imfile, cv2.IMREAD_COLOR)\n",
    "    \n",
    "    cv2.namedWindow('image', cv2.WINDOW_NORMAL)\n",
    "    cv2.imshow('image', img)\n",
    "    k = cv2.waitKey(0)\n",
    "    \n",
    "    #wait for ESC key to exit\n",
    "    if k == 27:\n",
    "        cv2.waitKey(0)\n",
    "        cv2.destroyAllWindows()\n",
    "        cv2.waitKey(1) \n",
    "        cv2.destroyAllWindows()\n",
    "    elif k == ord('s'):\n",
    "        cv2.imwrite('/Users/wonjaelee/dss/05_open_cv/jpg/thumb_IMG_1348_1024_greyImage.png', img)\n",
    "        cv2.waitKey(0)\n",
    "        cv2.destroyAllWindows()\n",
    "        cv2.waitKey(1)\n",
    "        cv2.destroyAllWindows()\n",
    "    \n",
    "if __name__ == '__main__':\n",
    "    handle_image()\n"
   ]
  },
  {
   "cell_type": "code",
   "execution_count": null,
   "metadata": {
    "collapsed": true
   },
   "outputs": [],
   "source": []
  },
  {
   "cell_type": "code",
   "execution_count": null,
   "metadata": {
    "collapsed": true
   },
   "outputs": [],
   "source": []
  },
  {
   "cell_type": "code",
   "execution_count": null,
   "metadata": {
    "collapsed": true
   },
   "outputs": [],
   "source": []
  },
  {
   "cell_type": "code",
   "execution_count": null,
   "metadata": {
    "collapsed": true
   },
   "outputs": [],
   "source": []
  },
  {
   "cell_type": "code",
   "execution_count": null,
   "metadata": {
    "collapsed": true
   },
   "outputs": [],
   "source": []
  },
  {
   "cell_type": "code",
   "execution_count": null,
   "metadata": {
    "collapsed": true
   },
   "outputs": [],
   "source": []
  },
  {
   "cell_type": "code",
   "execution_count": null,
   "metadata": {
    "collapsed": true
   },
   "outputs": [],
   "source": []
  },
  {
   "cell_type": "code",
   "execution_count": null,
   "metadata": {
    "collapsed": true
   },
   "outputs": [],
   "source": []
  }
 ],
 "metadata": {
  "kernelspec": {
   "display_name": "Python 3",
   "language": "python",
   "name": "python3"
  },
  "language_info": {
   "codemirror_mode": {
    "name": "ipython",
    "version": 3
   },
   "file_extension": ".py",
   "mimetype": "text/x-python",
   "name": "python",
   "nbconvert_exporter": "python",
   "pygments_lexer": "ipython3",
   "version": "3.6.2"
  }
 },
 "nbformat": 4,
 "nbformat_minor": 2
}
